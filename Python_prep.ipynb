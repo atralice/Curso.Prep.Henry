{
  "nbformat": 4,
  "nbformat_minor": 0,
  "metadata": {
    "colab": {
      "provenance": [],
      "collapsed_sections": [],
      "authorship_tag": "ABX9TyPEDb5v6iolcT99LNd1thJv",
      "include_colab_link": true
    },
    "kernelspec": {
      "name": "python3",
      "display_name": "Python 3"
    },
    "language_info": {
      "name": "python"
    }
  },
  "cells": [
    {
      "cell_type": "markdown",
      "metadata": {
        "id": "view-in-github",
        "colab_type": "text"
      },
      "source": [
        "<a href=\"https://colab.research.google.com/github/parraperez/Curso.Prep.Henry/blob/master/Python_prep.ipynb\" target=\"_parent\"><img src=\"https://colab.research.google.com/assets/colab-badge.svg\" alt=\"Open In Colab\"/></a>"
      ]
    },
    {
      "cell_type": "code",
      "execution_count": 1,
      "metadata": {
        "colab": {
          "base_uri": "https://localhost:8080/"
        },
        "id": "MfFSV8dvgdyn",
        "outputId": "5e5f23e7-1cca-4676-82a2-fbe55595f13c"
      },
      "outputs": [
        {
          "output_type": "stream",
          "name": "stdout",
          "text": [
            "Cloning into 'Python-Prep'...\n",
            "remote: Enumerating objects: 1088, done.\u001b[K\n",
            "remote: Total 1088 (delta 0), reused 0 (delta 0), pack-reused 1088\u001b[K\n",
            "Receiving objects: 100% (1088/1088), 2.59 MiB | 24.10 MiB/s, done.\n",
            "Resolving deltas: 100% (634/634), done.\n"
          ]
        }
      ],
      "source": [
        "!git clone https://github.com/soyHenry/Python-Prep.git"
      ]
    }
  ]
}